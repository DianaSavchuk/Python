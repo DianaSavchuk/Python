{
  "nbformat": 4,
  "nbformat_minor": 0,
  "metadata": {
    "colab": {
      "provenance": [],
      "include_colab_link": true
    },
    "kernelspec": {
      "name": "python3",
      "display_name": "Python 3"
    },
    "language_info": {
      "name": "python"
    }
  },
  "cells": [
    {
      "cell_type": "markdown",
      "metadata": {
        "id": "view-in-github",
        "colab_type": "text"
      },
      "source": [
        "<a href=\"https://colab.research.google.com/github/DianaSavchuk/Python/blob/main/Copy_of_Filtering_data_with_Pandas.ipynb\" target=\"_parent\"><img src=\"https://colab.research.google.com/assets/colab-badge.svg\" alt=\"Open In Colab\"/></a>"
      ]
    },
    {
      "cell_type": "markdown",
      "source": [
        "# Filtering dataframe data\n",
        "\n",
        "Interrogating dataframes\n",
        "---\n",
        "\n",
        "*   single column: `dataframe['column']`\n",
        "*   multiple columns: `dataframe[['column1', 'column2']]`\n",
        "*   filter rows by condition \t`df[df[column] = condition]`  \n",
        "*   filter by multiple conditions where both are true (AND)\t`df[(df[column] = condition1) & (df[column] = condition2)]`  \n",
        "*   filter by multiple conditions where one or other are true (OR)\t`df[(df[column] = condition1)  | (df[column] = condition2)]`  \n",
        "\n",
        "### Useful Functions\n",
        "\n",
        "---\n",
        "\n",
        "`head()`: will show the first 5 rows of the dataframe.  \n",
        "`tail()`: same as head() but for the last 5 rows.  \n",
        "`len()`: will show the length.  \n",
        "`mode()`: will show the most common value in column.  \n",
        "`mean()`: will show the average of the column.  \n",
        "`sort_values()`: will sort the dataframe.\n",
        "\n",
        "\n",
        "\n"
      ],
      "metadata": {
        "id": "3HT6psayWFCc"
      }
    },
    {
      "cell_type": "markdown",
      "source": [
        "## Table Imports & Table Content \n",
        "\n",
        "---\n",
        "\n",
        "Running the code below will display table content of all 3 tables. Use this to easily find colum names from specific tables."
      ],
      "metadata": {
        "id": "szKiU-timLdN"
      }
    },
    {
      "cell_type": "code",
      "source": [
        "import pandas as pd\n",
        "\n",
        "skill_migration = pd.read_excel('https://github.com/futureCodersSE/working-with-data/blob/main/Data%20sets/public_use-talent-migration.xlsx?raw=true', \"Skill Migration\")\n",
        "industry_migration = pd.read_excel('https://github.com/futureCodersSE/working-with-data/blob/main/Data%20sets/public_use-talent-migration.xlsx?raw=true', \"Industry Migration\")\n",
        "country_migration = pd.read_excel('https://github.com/futureCodersSE/working-with-data/blob/main/Data%20sets/public_use-talent-migration.xlsx?raw=true', \"Country Migration\")\n",
        "\n",
        "def get_summary(df):\n",
        "  display(df.info())\n",
        "\n",
        "get_summary(skill_migration)\n",
        "get_summary(industry_migration)\n",
        "get_summary(country_migration)"
      ],
      "metadata": {
        "id": "ZG_96PAAhaVY",
        "colab": {
          "base_uri": "https://localhost:8080/",
          "height": 1000
        },
        "outputId": "2893a3c7-e29a-47f9-c965-791a3048fe61"
      },
      "execution_count": null,
      "outputs": [
        {
          "output_type": "stream",
          "name": "stdout",
          "text": [
            "<class 'pandas.core.frame.DataFrame'>\n",
            "RangeIndex: 17617 entries, 0 to 17616\n",
            "Data columns (total 12 columns):\n",
            " #   Column                Non-Null Count  Dtype  \n",
            "---  ------                --------------  -----  \n",
            " 0   country_code          17617 non-null  object \n",
            " 1   country_name          17617 non-null  object \n",
            " 2   wb_income             17617 non-null  object \n",
            " 3   wb_region             17617 non-null  object \n",
            " 4   skill_group_id        17617 non-null  int64  \n",
            " 5   skill_group_category  17617 non-null  object \n",
            " 6   skill_group_name      17617 non-null  object \n",
            " 7   net_per_10K_2015      17617 non-null  float64\n",
            " 8   net_per_10K_2016      17617 non-null  float64\n",
            " 9   net_per_10K_2017      17617 non-null  float64\n",
            " 10  net_per_10K_2018      17617 non-null  float64\n",
            " 11  net_per_10K_2019      17617 non-null  float64\n",
            "dtypes: float64(5), int64(1), object(6)\n",
            "memory usage: 1.6+ MB\n"
          ]
        },
        {
          "output_type": "display_data",
          "data": {
            "text/plain": [
              "None"
            ]
          },
          "metadata": {}
        },
        {
          "output_type": "stream",
          "name": "stdout",
          "text": [
            "<class 'pandas.core.frame.DataFrame'>\n",
            "RangeIndex: 5295 entries, 0 to 5294\n",
            "Data columns (total 13 columns):\n",
            " #   Column              Non-Null Count  Dtype  \n",
            "---  ------              --------------  -----  \n",
            " 0   country_code        5295 non-null   object \n",
            " 1   country_name        5295 non-null   object \n",
            " 2   wb_income           5295 non-null   object \n",
            " 3   wb_region           5295 non-null   object \n",
            " 4   isic_section_index  5295 non-null   object \n",
            " 5   isic_section_name   5295 non-null   object \n",
            " 6   industry_id         5295 non-null   int64  \n",
            " 7   industry_name       5295 non-null   object \n",
            " 8   net_per_10K_2015    5295 non-null   float64\n",
            " 9   net_per_10K_2016    5295 non-null   float64\n",
            " 10  net_per_10K_2017    5295 non-null   float64\n",
            " 11  net_per_10K_2018    5295 non-null   float64\n",
            " 12  net_per_10K_2019    5295 non-null   float64\n",
            "dtypes: float64(5), int64(1), object(7)\n",
            "memory usage: 537.9+ KB\n"
          ]
        },
        {
          "output_type": "display_data",
          "data": {
            "text/plain": [
              "None"
            ]
          },
          "metadata": {}
        },
        {
          "output_type": "stream",
          "name": "stdout",
          "text": [
            "<class 'pandas.core.frame.DataFrame'>\n",
            "RangeIndex: 4148 entries, 0 to 4147\n",
            "Data columns (total 17 columns):\n",
            " #   Column                    Non-Null Count  Dtype  \n",
            "---  ------                    --------------  -----  \n",
            " 0   base_country_code         4148 non-null   object \n",
            " 1   base_country_name         4148 non-null   object \n",
            " 2   base_lat                  4148 non-null   float64\n",
            " 3   base_long                 4148 non-null   float64\n",
            " 4   base_country_wb_income    4148 non-null   object \n",
            " 5   base_country_wb_region    4148 non-null   object \n",
            " 6   target_country_code       4148 non-null   object \n",
            " 7   target_country_name       4148 non-null   object \n",
            " 8   target_lat                4148 non-null   float64\n",
            " 9   target_long               4148 non-null   float64\n",
            " 10  target_country_wb_income  4148 non-null   object \n",
            " 11  target_country_wb_region  4148 non-null   object \n",
            " 12  net_per_10K_2015          4148 non-null   float64\n",
            " 13  net_per_10K_2016          4148 non-null   float64\n",
            " 14  net_per_10K_2017          4148 non-null   float64\n",
            " 15  net_per_10K_2018          4148 non-null   float64\n",
            " 16  net_per_10K_2019          4148 non-null   float64\n",
            "dtypes: float64(9), object(8)\n",
            "memory usage: 551.0+ KB\n"
          ]
        },
        {
          "output_type": "display_data",
          "data": {
            "text/plain": [
              "None"
            ]
          },
          "metadata": {}
        }
      ]
    },
    {
      "cell_type": "markdown",
      "source": [
        "# Exercise 1\n",
        "\n",
        "---\n",
        "\\\n",
        "Write your code inside the function below to:\n",
        "- Find all `High income` countries using the `wb_income` column.\n",
        "- Return the length of rows."
      ],
      "metadata": {
        "id": "fL-D9LkmNr9g"
      }
    },
    {
      "cell_type": "code",
      "source": [
        "import pandas as pd\n",
        "\n",
        "skill_migration = pd.read_excel('https://github.com/futureCodersSE/working-with-data/blob/main/Data%20sets/public_use-talent-migration.xlsx?raw=true', \"Skill Migration\")\n",
        "\n",
        "def filter_income(df):\n",
        "  # add code below to find the high income countries using the wb_income column\n",
        "  filter_df = df[df['wb_income'] == 'High income']\n",
        "  display (filter_df)\n",
        "  return len(filter_df)\n",
        "\n",
        "#run test to see if you are getting the correct row length\n",
        "actual = filter_income(skill_migration)\n",
        "expected = 8904\n",
        "\n",
        "if actual == expected:\n",
        "  print(\"Test passed!\\nExpected: {}\\nActual: {}\".format(expected, actual))\n",
        "else:\n",
        "  print(\"Test failed!\\nExpected: {}\\nActual: {}\".format(expected, actual))"
      ],
      "metadata": {
        "id": "IHHR1T1kOZmq",
        "colab": {
          "base_uri": "https://localhost:8080/",
          "height": 887
        },
        "outputId": "5b0627dd-9583-4629-f988-49b1e4717034"
      },
      "execution_count": null,
      "outputs": [
        {
          "output_type": "display_data",
          "data": {
            "text/plain": [
              "      country_code country_name    wb_income                   wb_region  \\\n",
              "363             ar    Argentina  High income  Latin America & Caribbean    \n",
              "364             ar    Argentina  High income  Latin America & Caribbean    \n",
              "365             ar    Argentina  High income  Latin America & Caribbean    \n",
              "366             ar    Argentina  High income  Latin America & Caribbean    \n",
              "367             ar    Argentina  High income  Latin America & Caribbean    \n",
              "...            ...          ...          ...                         ...   \n",
              "17011           uy      Uruguay  High income  Latin America & Caribbean    \n",
              "17012           uy      Uruguay  High income  Latin America & Caribbean    \n",
              "17013           uy      Uruguay  High income  Latin America & Caribbean    \n",
              "17014           uy      Uruguay  High income  Latin America & Caribbean    \n",
              "17015           uy      Uruguay  High income  Latin America & Caribbean    \n",
              "\n",
              "       skill_group_id         skill_group_category  \\\n",
              "363              2626  Specialized Industry Skills   \n",
              "364              1885              Business Skills   \n",
              "365               599              Business Skills   \n",
              "366              2548  Specialized Industry Skills   \n",
              "367              2776              Business Skills   \n",
              "...               ...                          ...   \n",
              "17011           50370                  Tech Skills   \n",
              "17012           50304                  Tech Skills   \n",
              "17013            4142       Disruptive Tech Skills   \n",
              "17014           11305  Specialized Industry Skills   \n",
              "17015           12628  Specialized Industry Skills   \n",
              "\n",
              "                     skill_group_name  net_per_10K_2015  net_per_10K_2016  \\\n",
              "363                         Sociology            -38.90           -126.02   \n",
              "364               Affiliate Marketing           -134.97            -28.22   \n",
              "365                       Sales Leads           -247.56           -157.47   \n",
              "366                 Industrial Design            -84.95            -73.58   \n",
              "367                  Revenue Analysis            -87.48           -142.38   \n",
              "...                               ...               ...               ...   \n",
              "17011             Computer Networking             67.05             52.89   \n",
              "17012  Mobile Application Development            108.70           -137.71   \n",
              "17013      Human Computer Interaction            110.80            -20.83   \n",
              "17014                       Oil & Gas            -30.48            113.49   \n",
              "17015            Drilling Engineering             48.89            150.23   \n",
              "\n",
              "       net_per_10K_2017  net_per_10K_2018  net_per_10K_2019  \n",
              "363              -62.94            -71.28           -327.67  \n",
              "364               30.55            -83.54           -323.41  \n",
              "365              -18.57           -117.29           -248.57  \n",
              "366              -32.87            -45.90           -245.16  \n",
              "367             -115.12            -92.47           -233.48  \n",
              "...                 ...               ...               ...  \n",
              "17011            -16.00             30.54            133.16  \n",
              "17012            -94.77           -116.08            148.92  \n",
              "17013             98.03             13.85            152.70  \n",
              "17014            136.32            305.07            306.53  \n",
              "17015            103.02            495.65            352.04  \n",
              "\n",
              "[8904 rows x 12 columns]"
            ],
            "text/html": [
              "\n",
              "  <div id=\"df-f8783d49-fd92-40a3-9774-b568c87f3560\">\n",
              "    <div class=\"colab-df-container\">\n",
              "      <div>\n",
              "<style scoped>\n",
              "    .dataframe tbody tr th:only-of-type {\n",
              "        vertical-align: middle;\n",
              "    }\n",
              "\n",
              "    .dataframe tbody tr th {\n",
              "        vertical-align: top;\n",
              "    }\n",
              "\n",
              "    .dataframe thead th {\n",
              "        text-align: right;\n",
              "    }\n",
              "</style>\n",
              "<table border=\"1\" class=\"dataframe\">\n",
              "  <thead>\n",
              "    <tr style=\"text-align: right;\">\n",
              "      <th></th>\n",
              "      <th>country_code</th>\n",
              "      <th>country_name</th>\n",
              "      <th>wb_income</th>\n",
              "      <th>wb_region</th>\n",
              "      <th>skill_group_id</th>\n",
              "      <th>skill_group_category</th>\n",
              "      <th>skill_group_name</th>\n",
              "      <th>net_per_10K_2015</th>\n",
              "      <th>net_per_10K_2016</th>\n",
              "      <th>net_per_10K_2017</th>\n",
              "      <th>net_per_10K_2018</th>\n",
              "      <th>net_per_10K_2019</th>\n",
              "    </tr>\n",
              "  </thead>\n",
              "  <tbody>\n",
              "    <tr>\n",
              "      <th>363</th>\n",
              "      <td>ar</td>\n",
              "      <td>Argentina</td>\n",
              "      <td>High income</td>\n",
              "      <td>Latin America &amp; Caribbean</td>\n",
              "      <td>2626</td>\n",
              "      <td>Specialized Industry Skills</td>\n",
              "      <td>Sociology</td>\n",
              "      <td>-38.90</td>\n",
              "      <td>-126.02</td>\n",
              "      <td>-62.94</td>\n",
              "      <td>-71.28</td>\n",
              "      <td>-327.67</td>\n",
              "    </tr>\n",
              "    <tr>\n",
              "      <th>364</th>\n",
              "      <td>ar</td>\n",
              "      <td>Argentina</td>\n",
              "      <td>High income</td>\n",
              "      <td>Latin America &amp; Caribbean</td>\n",
              "      <td>1885</td>\n",
              "      <td>Business Skills</td>\n",
              "      <td>Affiliate Marketing</td>\n",
              "      <td>-134.97</td>\n",
              "      <td>-28.22</td>\n",
              "      <td>30.55</td>\n",
              "      <td>-83.54</td>\n",
              "      <td>-323.41</td>\n",
              "    </tr>\n",
              "    <tr>\n",
              "      <th>365</th>\n",
              "      <td>ar</td>\n",
              "      <td>Argentina</td>\n",
              "      <td>High income</td>\n",
              "      <td>Latin America &amp; Caribbean</td>\n",
              "      <td>599</td>\n",
              "      <td>Business Skills</td>\n",
              "      <td>Sales Leads</td>\n",
              "      <td>-247.56</td>\n",
              "      <td>-157.47</td>\n",
              "      <td>-18.57</td>\n",
              "      <td>-117.29</td>\n",
              "      <td>-248.57</td>\n",
              "    </tr>\n",
              "    <tr>\n",
              "      <th>366</th>\n",
              "      <td>ar</td>\n",
              "      <td>Argentina</td>\n",
              "      <td>High income</td>\n",
              "      <td>Latin America &amp; Caribbean</td>\n",
              "      <td>2548</td>\n",
              "      <td>Specialized Industry Skills</td>\n",
              "      <td>Industrial Design</td>\n",
              "      <td>-84.95</td>\n",
              "      <td>-73.58</td>\n",
              "      <td>-32.87</td>\n",
              "      <td>-45.90</td>\n",
              "      <td>-245.16</td>\n",
              "    </tr>\n",
              "    <tr>\n",
              "      <th>367</th>\n",
              "      <td>ar</td>\n",
              "      <td>Argentina</td>\n",
              "      <td>High income</td>\n",
              "      <td>Latin America &amp; Caribbean</td>\n",
              "      <td>2776</td>\n",
              "      <td>Business Skills</td>\n",
              "      <td>Revenue Analysis</td>\n",
              "      <td>-87.48</td>\n",
              "      <td>-142.38</td>\n",
              "      <td>-115.12</td>\n",
              "      <td>-92.47</td>\n",
              "      <td>-233.48</td>\n",
              "    </tr>\n",
              "    <tr>\n",
              "      <th>...</th>\n",
              "      <td>...</td>\n",
              "      <td>...</td>\n",
              "      <td>...</td>\n",
              "      <td>...</td>\n",
              "      <td>...</td>\n",
              "      <td>...</td>\n",
              "      <td>...</td>\n",
              "      <td>...</td>\n",
              "      <td>...</td>\n",
              "      <td>...</td>\n",
              "      <td>...</td>\n",
              "      <td>...</td>\n",
              "    </tr>\n",
              "    <tr>\n",
              "      <th>17011</th>\n",
              "      <td>uy</td>\n",
              "      <td>Uruguay</td>\n",
              "      <td>High income</td>\n",
              "      <td>Latin America &amp; Caribbean</td>\n",
              "      <td>50370</td>\n",
              "      <td>Tech Skills</td>\n",
              "      <td>Computer Networking</td>\n",
              "      <td>67.05</td>\n",
              "      <td>52.89</td>\n",
              "      <td>-16.00</td>\n",
              "      <td>30.54</td>\n",
              "      <td>133.16</td>\n",
              "    </tr>\n",
              "    <tr>\n",
              "      <th>17012</th>\n",
              "      <td>uy</td>\n",
              "      <td>Uruguay</td>\n",
              "      <td>High income</td>\n",
              "      <td>Latin America &amp; Caribbean</td>\n",
              "      <td>50304</td>\n",
              "      <td>Tech Skills</td>\n",
              "      <td>Mobile Application Development</td>\n",
              "      <td>108.70</td>\n",
              "      <td>-137.71</td>\n",
              "      <td>-94.77</td>\n",
              "      <td>-116.08</td>\n",
              "      <td>148.92</td>\n",
              "    </tr>\n",
              "    <tr>\n",
              "      <th>17013</th>\n",
              "      <td>uy</td>\n",
              "      <td>Uruguay</td>\n",
              "      <td>High income</td>\n",
              "      <td>Latin America &amp; Caribbean</td>\n",
              "      <td>4142</td>\n",
              "      <td>Disruptive Tech Skills</td>\n",
              "      <td>Human Computer Interaction</td>\n",
              "      <td>110.80</td>\n",
              "      <td>-20.83</td>\n",
              "      <td>98.03</td>\n",
              "      <td>13.85</td>\n",
              "      <td>152.70</td>\n",
              "    </tr>\n",
              "    <tr>\n",
              "      <th>17014</th>\n",
              "      <td>uy</td>\n",
              "      <td>Uruguay</td>\n",
              "      <td>High income</td>\n",
              "      <td>Latin America &amp; Caribbean</td>\n",
              "      <td>11305</td>\n",
              "      <td>Specialized Industry Skills</td>\n",
              "      <td>Oil &amp; Gas</td>\n",
              "      <td>-30.48</td>\n",
              "      <td>113.49</td>\n",
              "      <td>136.32</td>\n",
              "      <td>305.07</td>\n",
              "      <td>306.53</td>\n",
              "    </tr>\n",
              "    <tr>\n",
              "      <th>17015</th>\n",
              "      <td>uy</td>\n",
              "      <td>Uruguay</td>\n",
              "      <td>High income</td>\n",
              "      <td>Latin America &amp; Caribbean</td>\n",
              "      <td>12628</td>\n",
              "      <td>Specialized Industry Skills</td>\n",
              "      <td>Drilling Engineering</td>\n",
              "      <td>48.89</td>\n",
              "      <td>150.23</td>\n",
              "      <td>103.02</td>\n",
              "      <td>495.65</td>\n",
              "      <td>352.04</td>\n",
              "    </tr>\n",
              "  </tbody>\n",
              "</table>\n",
              "<p>8904 rows × 12 columns</p>\n",
              "</div>\n",
              "      <button class=\"colab-df-convert\" onclick=\"convertToInteractive('df-f8783d49-fd92-40a3-9774-b568c87f3560')\"\n",
              "              title=\"Convert this dataframe to an interactive table.\"\n",
              "              style=\"display:none;\">\n",
              "        \n",
              "  <svg xmlns=\"http://www.w3.org/2000/svg\" height=\"24px\"viewBox=\"0 0 24 24\"\n",
              "       width=\"24px\">\n",
              "    <path d=\"M0 0h24v24H0V0z\" fill=\"none\"/>\n",
              "    <path d=\"M18.56 5.44l.94 2.06.94-2.06 2.06-.94-2.06-.94-.94-2.06-.94 2.06-2.06.94zm-11 1L8.5 8.5l.94-2.06 2.06-.94-2.06-.94L8.5 2.5l-.94 2.06-2.06.94zm10 10l.94 2.06.94-2.06 2.06-.94-2.06-.94-.94-2.06-.94 2.06-2.06.94z\"/><path d=\"M17.41 7.96l-1.37-1.37c-.4-.4-.92-.59-1.43-.59-.52 0-1.04.2-1.43.59L10.3 9.45l-7.72 7.72c-.78.78-.78 2.05 0 2.83L4 21.41c.39.39.9.59 1.41.59.51 0 1.02-.2 1.41-.59l7.78-7.78 2.81-2.81c.8-.78.8-2.07 0-2.86zM5.41 20L4 18.59l7.72-7.72 1.47 1.35L5.41 20z\"/>\n",
              "  </svg>\n",
              "      </button>\n",
              "      \n",
              "  <style>\n",
              "    .colab-df-container {\n",
              "      display:flex;\n",
              "      flex-wrap:wrap;\n",
              "      gap: 12px;\n",
              "    }\n",
              "\n",
              "    .colab-df-convert {\n",
              "      background-color: #E8F0FE;\n",
              "      border: none;\n",
              "      border-radius: 50%;\n",
              "      cursor: pointer;\n",
              "      display: none;\n",
              "      fill: #1967D2;\n",
              "      height: 32px;\n",
              "      padding: 0 0 0 0;\n",
              "      width: 32px;\n",
              "    }\n",
              "\n",
              "    .colab-df-convert:hover {\n",
              "      background-color: #E2EBFA;\n",
              "      box-shadow: 0px 1px 2px rgba(60, 64, 67, 0.3), 0px 1px 3px 1px rgba(60, 64, 67, 0.15);\n",
              "      fill: #174EA6;\n",
              "    }\n",
              "\n",
              "    [theme=dark] .colab-df-convert {\n",
              "      background-color: #3B4455;\n",
              "      fill: #D2E3FC;\n",
              "    }\n",
              "\n",
              "    [theme=dark] .colab-df-convert:hover {\n",
              "      background-color: #434B5C;\n",
              "      box-shadow: 0px 1px 3px 1px rgba(0, 0, 0, 0.15);\n",
              "      filter: drop-shadow(0px 1px 2px rgba(0, 0, 0, 0.3));\n",
              "      fill: #FFFFFF;\n",
              "    }\n",
              "  </style>\n",
              "\n",
              "      <script>\n",
              "        const buttonEl =\n",
              "          document.querySelector('#df-f8783d49-fd92-40a3-9774-b568c87f3560 button.colab-df-convert');\n",
              "        buttonEl.style.display =\n",
              "          google.colab.kernel.accessAllowed ? 'block' : 'none';\n",
              "\n",
              "        async function convertToInteractive(key) {\n",
              "          const element = document.querySelector('#df-f8783d49-fd92-40a3-9774-b568c87f3560');\n",
              "          const dataTable =\n",
              "            await google.colab.kernel.invokeFunction('convertToInteractive',\n",
              "                                                     [key], {});\n",
              "          if (!dataTable) return;\n",
              "\n",
              "          const docLinkHtml = 'Like what you see? Visit the ' +\n",
              "            '<a target=\"_blank\" href=https://colab.research.google.com/notebooks/data_table.ipynb>data table notebook</a>'\n",
              "            + ' to learn more about interactive tables.';\n",
              "          element.innerHTML = '';\n",
              "          dataTable['output_type'] = 'display_data';\n",
              "          await google.colab.output.renderOutput(dataTable, element);\n",
              "          const docLink = document.createElement('div');\n",
              "          docLink.innerHTML = docLinkHtml;\n",
              "          element.appendChild(docLink);\n",
              "        }\n",
              "      </script>\n",
              "    </div>\n",
              "  </div>\n",
              "  "
            ]
          },
          "metadata": {}
        },
        {
          "output_type": "stream",
          "name": "stdout",
          "text": [
            "Test passed!\n",
            "Expected: 8904\n",
            "Actual: 8904\n"
          ]
        }
      ]
    },
    {
      "cell_type": "markdown",
      "source": [
        "# Exercise 2\n",
        "\n",
        "---\n",
        "\\\n",
        "Write your code inside the function below to:\n",
        "- Find all rows that have a `skill_group_category` equal to `skill`.\n",
        "- Return the country that shows up the most in `country_name`."
      ],
      "metadata": {
        "id": "rO3uDHEEPhIp"
      }
    },
    {
      "cell_type": "code",
      "source": [
        "import pandas as pd\n",
        "\n",
        "skill_migration = pd.read_excel('https://github.com/futureCodersSE/working-with-data/blob/main/Data%20sets/public_use-talent-migration.xlsx?raw=true', \"Skill Migration\")\n",
        "\n",
        "def filter_skills(df, skill):\n",
        "  # add code below to find all rows that have the skill 'skill'\n",
        "  filter_skill = df[df['skill_group_category'] == skill ]\n",
        "  filter_country = filter_skill['country_name'].mode()\n",
        "  display(filter_country)\n",
        "  return filter_country\n",
        "\n",
        "#run test to see if you are getting the most frequent country name\n",
        "tests = [\n",
        "    { \"id\": 1, \"actual\": filter_skills(skill_migration, \"Tech Skills\")[0], \"expected\": \"Australia\" },\n",
        "    { \"id\": 2, \"actual\": filter_skills(skill_migration, \"Business Skills\")[0], \"expected\": \"Australia\" },\n",
        "    { \"id\": 3, \"actual\": filter_skills(skill_migration, \"Specialized Industry Skills\")[0], \"expected\": \"United Kingdom\" }\n",
        "]\n",
        "\n",
        "for test in tests: \n",
        "  if test[\"actual\"] == test[\"expected\"]:\n",
        "    print(\"Test {} passed!\\nExpected: {}\\nActual: {}\\n\".format(test[\"id\"], test[\"expected\"], test[\"actual\"]))\n",
        "  else:\n",
        "    print(\"Test {} failed!\\nExpected: {}\\nActual: {}\\n\".format(test[\"id\"], test[\"expected\"], test[\"actual\"]))"
      ],
      "metadata": {
        "id": "aYfnMp0RQ4Dr",
        "colab": {
          "base_uri": "https://localhost:8080/",
          "height": 781
        },
        "outputId": "3c3fdb38-0521-4c7b-9af3-a8f653109a30"
      },
      "execution_count": null,
      "outputs": [
        {
          "output_type": "display_data",
          "data": {
            "text/plain": [
              "0                Australia\n",
              "1                   Canada\n",
              "2                   France\n",
              "3                  Germany\n",
              "4                    India\n",
              "5                    Italy\n",
              "6              Netherlands\n",
              "7             Saudi Arabia\n",
              "8                    Spain\n",
              "9     United Arab Emirates\n",
              "10          United Kingdom\n",
              "11           United States\n",
              "dtype: object"
            ]
          },
          "metadata": {}
        },
        {
          "output_type": "display_data",
          "data": {
            "text/plain": [
              "0                Australia\n",
              "1                   Canada\n",
              "2                   France\n",
              "3                  Germany\n",
              "4                    India\n",
              "5                  Ireland\n",
              "6                    Italy\n",
              "7              Netherlands\n",
              "8                Singapore\n",
              "9             South Africa\n",
              "10                   Spain\n",
              "11             Switzerland\n",
              "12    United Arab Emirates\n",
              "13          United Kingdom\n",
              "14           United States\n",
              "dtype: object"
            ]
          },
          "metadata": {}
        },
        {
          "output_type": "display_data",
          "data": {
            "text/plain": [
              "0    United Kingdom\n",
              "1     United States\n",
              "dtype: object"
            ]
          },
          "metadata": {}
        },
        {
          "output_type": "stream",
          "name": "stdout",
          "text": [
            "Test 1 passed!\n",
            "Expected: Australia\n",
            "Actual: Australia\n",
            "\n",
            "Test 2 passed!\n",
            "Expected: Australia\n",
            "Actual: Australia\n",
            "\n",
            "Test 3 passed!\n",
            "Expected: United Kingdom\n",
            "Actual: United Kingdom\n",
            "\n"
          ]
        }
      ]
    },
    {
      "cell_type": "markdown",
      "source": [
        "# Exercise 3\n",
        "\n",
        "---\n",
        "\\\n",
        "Write your code inside the function below to:\n",
        "- Find all `skill_group_id` with the id `2265` that have a `net_per_10K_2019` greater than `-500`.\n",
        "- Sort the rows in ascending order based on `net_per_10K_2019` and return the first 5 rows."
      ],
      "metadata": {
        "id": "hs4N75oOQ5vy"
      }
    },
    {
      "cell_type": "code",
      "source": [
        "import pandas as pd\n",
        "\n",
        "skill_migration = pd.read_excel('https://github.com/futureCodersSE/working-with-data/blob/main/Data%20sets/public_use-talent-migration.xlsx?raw=true', \"Skill Migration\")\n",
        "\n",
        "def filter_skill_id(df):\n",
        "  # add code below to find skill id 2265 with greater than -500 migration\n",
        "  find_id = df[(df['skill_group_id'] == 2265 ) & (df['net_per_10K_2019'] >= -500)]\n",
        "  sort_based_on_net = find_id.sort_values(by = \"net_per_10K_2019\", ascending = True).head()\n",
        "  return sort_based_on_net\n",
        "\n",
        "#run test to see if you are getting the correct first row and only returning 5 items\n",
        "filtered_df = filter_skill_id(skill_migration)\n",
        "actual1 = filtered_df.index[0]\n",
        "expected1 = 14550\n",
        "actual2 = len(filtered_df)\n",
        "expected2 = 5\n",
        "\n",
        "if actual1 == expected1 and actual2 == expected2:\n",
        "  print(\"Test passed!\\nExpected: {} & {}\\nActual: {} & {}\".format(expected1, expected2, actual1, actual2))\n",
        "else:\n",
        "  print(\"Test failed!\\nExpected: {} & {}\\nActual: {} & {}\".format(expected1, expected2, actual1, actual2))"
      ],
      "metadata": {
        "id": "eYuGy4UXQ4um",
        "colab": {
          "base_uri": "https://localhost:8080/"
        },
        "outputId": "44c51d70-b933-4bb5-c20f-49e1732a9459"
      },
      "execution_count": null,
      "outputs": [
        {
          "output_type": "stream",
          "name": "stdout",
          "text": [
            "Test passed!\n",
            "Expected: 14550 & 5\n",
            "Actual: 14550 & 5\n"
          ]
        }
      ]
    },
    {
      "cell_type": "markdown",
      "source": [
        "# Exercise 4\n",
        "\n",
        "---\n",
        "\\\n",
        "Write your code inside the function below to:\n",
        "- Find all rows with a `net_per_10K_2019` less than the parsed `amount` parameter.\n",
        "- Return the length of rows.\n",
        "\n",
        "*(hint: amount is a parameter representing a parsed number when the function is called, use it within the function like a variable)*"
      ],
      "metadata": {
        "id": "br8aWPZvRnhA"
      }
    },
    {
      "cell_type": "code",
      "source": [
        "import pandas as pd\n",
        "\n",
        "country_migration = pd.read_excel('https://github.com/futureCodersSE/working-with-data/blob/main/Data%20sets/public_use-talent-migration.xlsx?raw=true', \"Country Migration\")\n",
        "\n",
        "def filter_net_per_10k(df, amount):\n",
        "  # add code below to find all the rows which are less than the `amount` parameter\n",
        "  find_rows = df[df['net_per_10K_2019'] < amount ]\n",
        "  return len(find_rows)\n",
        "\n",
        "#run test to see if you are getting the correct first row and only returning 5 items\n",
        "tests = [\n",
        "    { \"id\": 1, \"actual\": filter_net_per_10k(country_migration, 100), \"expected\": 4148 },\n",
        "    { \"id\": 2, \"actual\": filter_net_per_10k(country_migration, 0), \"expected\": 1980 },\n",
        "    { \"id\": 3, \"actual\": filter_net_per_10k(country_migration, -100), \"expected\": 0 }\n",
        "]\n",
        "\n",
        "for test in tests: \n",
        "  if test[\"actual\"] == test[\"expected\"]:\n",
        "    print(\"Test {} passed!\\nExpected: {}\\nActual: {}\\n\".format(test[\"id\"], test[\"expected\"], test[\"actual\"]))\n",
        "  else:\n",
        "    print(\"Test {} failed!\\nExpected: {}\\nActual: {}\\n\".format(test[\"id\"], test[\"expected\"], test[\"actual\"]))"
      ],
      "metadata": {
        "id": "6qL6UNVBRo80",
        "colab": {
          "base_uri": "https://localhost:8080/"
        },
        "outputId": "ce805d85-4ae2-46dc-e255-1f34a43dd81b"
      },
      "execution_count": null,
      "outputs": [
        {
          "output_type": "stream",
          "name": "stdout",
          "text": [
            "Test 1 passed!\n",
            "Expected: 4148\n",
            "Actual: 4148\n",
            "\n",
            "Test 2 passed!\n",
            "Expected: 1980\n",
            "Actual: 1980\n",
            "\n",
            "Test 3 passed!\n",
            "Expected: 0\n",
            "Actual: 0\n",
            "\n"
          ]
        }
      ]
    },
    {
      "cell_type": "markdown",
      "source": [
        "# Exercise 5\n",
        "\n",
        "---\n",
        "\\\n",
        "Write your code inside the function below to:\n",
        "- Find all rows that have a `net_per_10K_2015` & `net_per_10K_2016` greater than `50`.\n",
        "- Return the length of rows"
      ],
      "metadata": {
        "id": "lFXbG6c2SUik"
      }
    },
    {
      "cell_type": "code",
      "source": [
        "import pandas as pd\n",
        "\n",
        "country_migration = pd.read_excel('https://github.com/futureCodersSE/working-with-data/blob/main/Data%20sets/public_use-talent-migration.xlsx?raw=true', \"Country Migration\")\n",
        "\n",
        "def filter_two_net(df):\n",
        "  # add code below to find rows which have migration in 2015 & 2016 greater than 50\n",
        "   find_rows_greater_than_50 =  df[(df['net_per_10K_2015'] > 50) & (df['net_per_10K_2016'] > 50)]\n",
        "   return len(find_rows_greater_than_50)\n",
        "\n",
        "\n",
        "\n",
        "\n",
        "\n",
        "#run test to see if you are getting the correct length of rows\n",
        "actual = filter_two_net(country_migration)\n",
        "expected = 3\n",
        "\n",
        "if actual == expected:\n",
        "  print(\"Test passed!\\nExpected: {}\\nActual: {}\".format(expected, actual))\n",
        "else:\n",
        "  print(\"Test failed!\\nExpected: {}\\nActual: {}\".format(expected, actual))"
      ],
      "metadata": {
        "id": "CxfijlHGSW60",
        "colab": {
          "base_uri": "https://localhost:8080/"
        },
        "outputId": "b598be50-6520-4a71-ccd6-2eb45fb01cdd"
      },
      "execution_count": null,
      "outputs": [
        {
          "output_type": "stream",
          "name": "stdout",
          "text": [
            "Test passed!\n",
            "Expected: 3\n",
            "Actual: 3\n"
          ]
        }
      ]
    },
    {
      "cell_type": "markdown",
      "source": [
        "# Exercise 6\n",
        "\n",
        "---\n",
        "\\\n",
        "Write your code inside the function below to:\n",
        "- Find all migrations from countries with `Low Income` to countries with `Upper Middle Income`.\n",
        "- Find all rows which move to the same region via `base_country_wb_region` & `target_country_wb_region` then display the number of rows."
      ],
      "metadata": {
        "id": "OJuBYhzaS3r1"
      }
    },
    {
      "cell_type": "code",
      "source": [
        "import pandas as pd\n",
        "\n",
        "country_migration = pd.read_excel('https://github.com/futureCodersSE/working-with-data/blob/main/Data%20sets/public_use-talent-migration.xlsx?raw=true', \"Country Migration\")\n",
        "\n",
        "def filter_two_income(df):\n",
        "  # add code below to find all rows of migration from low income to upper middle income \n",
        "  find_migrations = df[(df['base_country_wb_income'] == 'Low Income') & (df['target_country_wb_income'] == 'Upper Middle Income')]\n",
        "  #and the number of rows where migration was to the same regiion\n",
        "  find_region = find_migrations[(find_migrations['base_country_wb_region']) == (find_migrations['target_country_wb_region'])]\n",
        "  return len(find_region)\n",
        "\n",
        "#run test to see if you are getting the correct first length of rows\n",
        "actual = filter_two_income(country_migration)\n",
        "expected = 15\n",
        "\n",
        "if actual == expected:\n",
        "  print(\"Test passed!\\nExpected: {}\\nActual: {}\".format(expected, actual))\n",
        "else:\n",
        "  print(\"Test failed!\\nExpected: {}\\nActual: {}\".format(expected, actual))"
      ],
      "metadata": {
        "id": "Wq0i2dCYTPxE",
        "colab": {
          "base_uri": "https://localhost:8080/"
        },
        "outputId": "0c4b3f05-04cb-48c2-f271-200de194300f"
      },
      "execution_count": null,
      "outputs": [
        {
          "output_type": "stream",
          "name": "stdout",
          "text": [
            "Test passed!\n",
            "Expected: 15\n",
            "Actual: 15\n"
          ]
        }
      ]
    },
    {
      "cell_type": "markdown",
      "source": [
        "# Exercise 7\n",
        "\n",
        "---\n",
        "\\\n",
        "Write your code inside the function below to:\n",
        "- Find all `isic_section_index` with `M` that are in `industry_name` of `Biotechnology`.\n",
        "- Return the number of rows."
      ],
      "metadata": {
        "id": "aDvp-O4LTXbp"
      }
    },
    {
      "cell_type": "code",
      "source": [
        "import pandas as pd\n",
        "\n",
        "industry_migration = pd.read_excel('https://github.com/futureCodersSE/working-with-data/blob/main/Data%20sets/public_use-talent-migration.xlsx?raw=true', \"Industry Migration\")\n",
        "\n",
        "def filter_industry(df):\n",
        "  # add code below to find all the rows from biotechnology industry and isic of M \n",
        "  number_of_index = df[(df['isic_section_index'] == 'M') & (df['industry_name'] == 'Biotechnology')]\n",
        "  return len(number_of_index)\n",
        "\n",
        "#run test to see if you are getting the correct length of rows\n",
        "actual = filter_industry(industry_migration)\n",
        "expected = 32\n",
        "\n",
        "if actual == expected:\n",
        "  print(\"Test passed!\\nExpected: {}\\nActual: {}\".format(expected, actual))\n",
        "else:\n",
        "  print(\"Test failed!\\nExpected: {}\\nActual: {}\".format(expected, actual))"
      ],
      "metadata": {
        "id": "n_V5moucTRnP",
        "colab": {
          "base_uri": "https://localhost:8080/"
        },
        "outputId": "0fa0d7d4-b8e8-455c-d0ef-1e1095a90616"
      },
      "execution_count": null,
      "outputs": [
        {
          "output_type": "stream",
          "name": "stdout",
          "text": [
            "Test passed!\n",
            "Expected: 32\n",
            "Actual: 32\n"
          ]
        }
      ]
    },
    {
      "cell_type": "markdown",
      "source": [
        "# Exercise 8\n",
        "\n",
        "---\n",
        "\\\n",
        "Write your code inside the function below to:\n",
        "- Find all `industry_name` with `Computer Software` that have a `wb_income` of `Low income`.\n",
        "- Sort the rows in descending order based on `net_per_10K_2015` and return the first 5 rows."
      ],
      "metadata": {
        "id": "Pu-V4x7oTXg3"
      }
    },
    {
      "cell_type": "code",
      "source": [
        "import pandas as pd\n",
        "\n",
        "industry_migration = pd.read_excel('https://github.com/futureCodersSE/working-with-data/blob/main/Data%20sets/public_use-talent-migration.xlsx?raw=true', \"Industry Migration\")\n",
        "\n",
        "def filter_industry_income(df):\n",
        "  # add code below to find Low Income Computer Software rows and sort in descending order returning first 5 \n",
        "  number_of_rows = df[(df['industry_name'] == 'Computer Software') & (df['wb_income'] == 'Low income')]\n",
        "  sort_rows = number_of_rows.sort_values(by = \"net_per_10K_2015\", ascending = False).head()\n",
        "  return sort_rows\n",
        "   \n",
        "\n",
        "\n",
        "\n",
        "\n",
        "\n",
        "#run test to see if you are getting the correct first row and only returning 5 items\n",
        "filtered_df = filter_industry_income(industry_migration)\n",
        "actual1 = filtered_df.index[0]\n",
        "expected1 = 3699\n",
        "actual2 = len(filtered_df)\n",
        "expected2 = 1\n",
        "\n",
        "if actual1 == expected1 and actual2 == expected2:\n",
        "  print(\"Test passed!\\nExpected: {} & {}\\nActual: {} & {}\".format(expected1, expected2, actual1, actual2))\n",
        "else:\n",
        "  print(\"Test failed!\\nExpected: {} & {}\\nActual: {} & {}\".format(expected1, expected2, actual1, actual2))"
      ],
      "metadata": {
        "id": "WqVliNlGTWXV",
        "colab": {
          "base_uri": "https://localhost:8080/"
        },
        "outputId": "b778c255-3f51-4721-efc0-d611afcbb480"
      },
      "execution_count": null,
      "outputs": [
        {
          "output_type": "stream",
          "name": "stdout",
          "text": [
            "Test passed!\n",
            "Expected: 3699 & 1\n",
            "Actual: 3699 & 1\n"
          ]
        }
      ]
    },
    {
      "cell_type": "markdown",
      "source": [
        "# Exercise 9\n",
        "\n",
        "---\n",
        "\\\n",
        "Write your code inside the function below to:\n",
        "- Find all `country_name` that include `United States` or `United Kindom` aswell as having a `isic_section_index` with `M` included.\n",
        "- Return the average of `net_per_10K_2015`."
      ],
      "metadata": {
        "id": "O7o6mgU2TXl_"
      }
    },
    {
      "cell_type": "code",
      "source": [
        "import pandas as pd\n",
        "\n",
        "industry_migration = pd.read_excel('https://github.com/futureCodersSE/working-with-data/blob/main/Data%20sets/public_use-talent-migration.xlsx?raw=true', \"Industry Migration\")\n",
        "\n",
        "def filter_country(df):\n",
        "  # add code below to find all USA and UK rows which have ISIC of M and return mean migration in 2015\n",
        "   #find = df[(df['country_code'] == 'us') & (df['isic_section_index'] == 'M') | (df['country_code'] == 'gb') & (df['isic_section_index'] == 'M')]\n",
        "   find = df[((df['country_name'] == 'United States') | (df['country_name'] == 'United Kingdom')) & (df['isic_section_index'] == 'M')]\n",
        "   return find['net_per_10K_2015'].mean()\n",
        "\n",
        "\n",
        "\n",
        "\n",
        "#run test to see if you are getting the correct average\n",
        "actual = round(filter_country(industry_migration), 2)\n",
        "expected = 8.09\n",
        "\n",
        "if actual == expected:\n",
        "  print(\"Test passed!\\nExpected: {}\\nActual: {}\".format(expected, actual))\n",
        "else:\n",
        "  print(\"Test failed!\\nExpected: {}\\nActual: {}\".format(expected, actual))"
      ],
      "metadata": {
        "id": "izOkixeATWd_",
        "colab": {
          "base_uri": "https://localhost:8080/"
        },
        "outputId": "d8c15d19-2d51-4f1e-8d48-b72a2115073d"
      },
      "execution_count": 8,
      "outputs": [
        {
          "output_type": "stream",
          "name": "stdout",
          "text": [
            "Test failed!\n",
            "Expected: 8.09\n",
            "Actual: 47.28\n"
          ]
        }
      ]
    }
  ]
}